{
 "cells": [
  {
   "cell_type": "code",
   "execution_count": 1,
   "metadata": {},
   "outputs": [
    {
     "name": "stdout",
     "output_type": "stream",
     "text": [
      "Reading data...\n",
      "done\n"
     ]
    }
   ],
   "source": [
    "import numpy as np\n",
    "import matplotlib\n",
    "\n",
    "\n",
    "def parseData(fname):\n",
    "  list = []\n",
    "  for l in open(fname):\n",
    "    list.append(l)\n",
    "  return list\n",
    "\n",
    "print \"Reading data...\"\n",
    "data = parseData(\"data0.txt\")\n",
    "print \"done\"\n",
    "\n",
    "X = []\n",
    "Y = []\n",
    "\n",
    "for i in data:\n",
    "    split = i.split()\n",
    "    X.append((int(split[0]),int(split[1])))\n",
    "    Y.append(int(split[2]))\n",
    "    \n"
   ]
  },
  {
   "cell_type": "code",
   "execution_count": 60,
   "metadata": {
    "collapsed": true
   },
   "outputs": [],
   "source": [
    "from numpy import random\n",
    "def MultiClassPerceptron(data, labels):\n",
    "    \n",
    "\n",
    "    # Here x is the data, y are the labels\n",
    "    w = np.zeros([np.amax(labels)+1, len(data[0])])\n",
    "    b = np.zeros(np.amax(labels)+1);\n",
    "    \n",
    "    # Permutes the data\n",
    "    zipped = zip(data, labels)\n",
    "    np.random.shuffle(zipped)\n",
    "    newData = np.zeros([len(data), len(data[0])])\n",
    "    newLabels = np.zeros(len(labels))\n",
    "    \n",
    "    for j, elem in enumerate(zipped):\n",
    "        newData[j] = elem[0]\n",
    "        newLabels[j] = elem[1]\n",
    "\n",
    "    # Data is permuted \n",
    "    \n",
    "    # Time to learn\n",
    "    \n",
    "    correct = 0\n",
    "    \n",
    "   # while(np.sum(correct) != len(newData)):\n",
    "    while(correct < len(labels)):\n",
    "        correct = 0\n",
    "        for i in range(len(labels)):\n",
    "        \n",
    "        \n",
    "        \n",
    "            #Data Point\n",
    "            x = newData[i]\n",
    "            \n",
    "            # Correct Label\n",
    "            y =  int(newLabels[i]) \n",
    "           \n",
    "        \n",
    "            # Predicted label\n",
    "            predictedY = 0\n",
    "            maxNum = 0\n",
    "                \n",
    "            for j in range(0, 4):\n",
    "                if(maxNum < np.dot(x, w[j])+b[j]):\n",
    "                    maxNum = np.dot(x, w[j])+b[j]\n",
    "                    predictedY = j\n",
    "            \n",
    "            if(predictedY != y):\n",
    "                \n",
    "                # Correct Label\n",
    "                w[y] = w[y] + x\n",
    "                b[y] = b[y] + 1;\n",
    "                \n",
    "                #Incorrect Label\n",
    "                w[predictedY] = w[predictedY] - x\n",
    "                b[predictedY] = b[predictedY] - 1\n",
    "            else:\n",
    "                correct += 1\n",
    "                        \n",
    "    return w, b\n",
    "                \n",
    "                \n",
    "    \n",
    "    \n",
    "    "
   ]
  },
  {
   "cell_type": "code",
   "execution_count": 57,
   "metadata": {},
   "outputs": [
    {
     "name": "stdout",
     "output_type": "stream",
     "text": [
      "[[  9.  -6.]\n",
      " [-47.  32.]\n",
      " [ 26. -28.]\n",
      " [ 12.   2.]]\n",
      "[ 52. -15. -14. -23.]\n"
     ]
    }
   ],
   "source": [
    "w, b = MultiClassPerceptron(X, Y)\n",
    "\n",
    "print w\n",
    "print b"
   ]
  },
  {
   "cell_type": "code",
   "execution_count": 59,
   "metadata": {},
   "outputs": [
    {
     "data": {
      "image/png": "[encoded data removed]",
      "text/plain": [
       "<matplotlib.figure.Figure at 0xe3029b0>"
      ]
     },
     "metadata": {},
     "output_type": "display_data"
    }
   ],
   "source": [
    "%matplotlib inline\n",
    "\n",
    "from sklearn import linear_model\n",
    "from sklearn.linear_model import Perceptron\n",
    "import matplotlib\n",
    "from matplotlib import pyplot as plt\n",
    "import mlxtend\n",
    "from mlxtend.plotting import plot_decision_regions\n",
    "\n",
    "\n",
    "\n",
    "xx = np.array(X)\n",
    "yy = np.array(Y)\n",
    "\n",
    "\n",
    "pct = Perceptron()\n",
    "\n",
    "pct.coef_ = w\n",
    "pct.intercept_ = b\n",
    "\n",
    "pct.classes_ = np.unique([0, 1, 2, 3])\n",
    "\n",
    "\n",
    "plot_decision_regions(xx, yy, clf=pct, res=.001)\n",
    "\n",
    "\n",
    "\n",
    "plt.show()"
   ]
  },
  {
   "cell_type": "code",
   "execution_count": null,
   "metadata": {
    "collapsed": true
   },
   "outputs": [],
   "source": []
  },
  {
   "cell_type": "code",
   "execution_count": null,
   "metadata": {
    "collapsed": true
   },
   "outputs": [],
   "source": []
  }
 ],
 "metadata": {
  "kernelspec": {
   "display_name": "Python 2",
   "language": "python",
   "name": "python2"
  },
  "language_info": {
   "codemirror_mode": {
    "name": "ipython",
    "version": 2
   },
   "file_extension": ".py",
   "mimetype": "text/x-python",
   "name": "python",
   "nbconvert_exporter": "python",
   "pygments_lexer": "ipython2",
   "version": "2.7.14"
  }
 },
 "nbformat": 4,
 "nbformat_minor": 2
}
