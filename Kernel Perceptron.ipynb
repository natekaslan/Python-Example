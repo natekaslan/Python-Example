{
 "cells": [
  {
   "cell_type": "code",
   "execution_count": 1,
   "metadata": {},
   "outputs": [
    {
     "name": "stdout",
     "output_type": "stream",
     "text": [
      "Reading data...\n",
      "done\n"
     ]
    }
   ],
   "source": [
    "import numpy as np\n",
    "import matplotlib\n",
    "\n",
    "\n",
    "def parseData(fname):\n",
    "  list = []\n",
    "  for l in open(fname):\n",
    "    list.append(l)\n",
    "  return list\n",
    "\n",
    "print \"Reading data...\"\n",
    "data = parseData(\"data2.txt\")\n",
    "print \"done\"\n",
    "\n",
    "X1 = []\n",
    "Y1 = []\n",
    "\n",
    "for i in data:\n",
    "    split = i.split()\n",
    "    X1.append((int(split[0]),int(split[1])))\n",
    "    Y1.append(int(split[2]))"
   ]
  },
  {
   "cell_type": "code",
   "execution_count": null,
   "metadata": {},
   "outputs": [],
   "source": [
    "print X1"
   ]
  },
  {
   "cell_type": "code",
   "execution_count": 2,
   "metadata": {},
   "outputs": [],
   "source": [
    "def predictQuadratic(X, Y, alpha, point, b):\n",
    "    result = 0\n",
    "    \n",
    "    for i in range(len(X)):\n",
    "        \n",
    "        # Here np.dot(.., ..) is the Kernel Function for Quadratic\n",
    "        \n",
    "        result = result + alpha[i]*Y[i]*(1+np.dot(point, X[i]))**2 \n",
    "        \n",
    "    result = result + b\n",
    "    \n",
    "    return np.sign(result)"
   ]
  },
  {
   "cell_type": "code",
   "execution_count": 19,
   "metadata": {},
   "outputs": [],
   "source": [
    "import sklearn\n",
    "from sklearn.metrics.pairwise import rbf_kernel\n",
    "\n",
    "def predictRBF(X, Y, alpha, point, b, sigma):\n",
    "    result = 0\n",
    "    \n",
    "    for i in range(len(X)):\n",
    "        \n",
    "        # Here e^(..) is the Kernel Function for RBF\n",
    "        diff = np.array(X[i]) - point\n",
    "        result = result + alpha[i]*Y[i]*np.exp(-1*(np.dot(diff, diff)/2*sigma**2))\n",
    "        \n",
    "    result = result + b\n",
    "    \n",
    "    return np.sign(result)"
   ]
  },
  {
   "cell_type": "code",
   "execution_count": 20,
   "metadata": {},
   "outputs": [],
   "source": [
    "# Implementation of the Kernel Perceptron\n",
    "\n",
    "def KernelPerceptron(X, Y, RBF, sigma):\n",
    "    \n",
    "    # Initialize variables \n",
    "    alpha = np.zeros(len(X))\n",
    "    b  = 0\n",
    "    \n",
    "    correct = 0\n",
    "    while(correct < len(X)):\n",
    "        correct = 0\n",
    "        for i in range(0, len(X)):\n",
    "       \n",
    "        \n",
    "            prediction = 0;\n",
    "            # Gets the point and the label \n",
    "        \n",
    "            point = X[i]\n",
    "            label = Y[i]\n",
    "        \n",
    "            \n",
    "        \n",
    "            if(RBF):\n",
    "                prediction = predictRBF(X, Y, alpha, point, b, sigma)\n",
    "            else:\n",
    "                prediction = predictQuadratic(X, Y, alpha, point, b)\n",
    "        \n",
    "\n",
    "            if(prediction != label):\n",
    "             \n",
    "                alpha[i] = alpha[i]+1\n",
    "                b = b + label\n",
    "            else:\n",
    "                correct += 1\n",
    "                   \n",
    "    return alpha, b\n",
    "    "
   ]
  },
  {
   "cell_type": "code",
   "execution_count": 21,
   "metadata": {},
   "outputs": [
    {
     "name": "stdout",
     "output_type": "stream",
     "text": [
      "[ 1.  0.  0.  0.  0.  0.  0.  0.  0.  0.  0.  0.  0.  0.  0.  0.  0.  0.\n",
      "  0.  0.  2.  0.  0.  0.  0.  0.  0.  0.  0.  0.  0.  0.  0.  0.  0.  0.\n",
      "  0.  0.  0.  0.  1.  0.  0.  0.  0.  0.  0.  0.  0.  0.  0.  0.  0.  0.\n",
      "  0.  0.  0.  0.  0.  0.]\n"
     ]
    }
   ],
   "source": [
    "alpha1, b1 = KernelPerceptron(X1, Y1, True, 1)\n",
    "\n",
    "print alpha1"
   ]
  },
  {
   "cell_type": "code",
   "execution_count": 22,
   "metadata": {},
   "outputs": [
    {
     "ename": "ValueError",
     "evalue": "shapes (1102500,2) and (1102500,2) not aligned: 2 (dim 1) != 1102500 (dim 0)",
     "output_type": "error",
     "traceback": [
      "\u001b[1;31m---------------------------------------------------------------------------\u001b[0m",
      "\u001b[1;31mValueError\u001b[0m                                Traceback (most recent call last)",
      "\u001b[1;32m<ipython-input-22-190443ac0d49>\u001b[0m in \u001b[0;36m<module>\u001b[1;34m()\u001b[0m\n\u001b[0;32m     17\u001b[0m \u001b[0mxx1\u001b[0m\u001b[1;33m,\u001b[0m \u001b[0mxx2\u001b[0m \u001b[1;33m=\u001b[0m \u001b[0mnp\u001b[0m\u001b[1;33m.\u001b[0m\u001b[0mmeshgrid\u001b[0m\u001b[1;33m(\u001b[0m\u001b[0mnp\u001b[0m\u001b[1;33m.\u001b[0m\u001b[0marange\u001b[0m\u001b[1;33m(\u001b[0m\u001b[0mx1_min\u001b[0m\u001b[1;33m,\u001b[0m \u001b[0mx1_max\u001b[0m\u001b[1;33m,\u001b[0m \u001b[0mdelta\u001b[0m\u001b[1;33m)\u001b[0m\u001b[1;33m,\u001b[0m \u001b[0mnp\u001b[0m\u001b[1;33m.\u001b[0m\u001b[0marange\u001b[0m\u001b[1;33m(\u001b[0m\u001b[0mx2_min\u001b[0m\u001b[1;33m,\u001b[0m \u001b[0mx2_max\u001b[0m\u001b[1;33m,\u001b[0m \u001b[0mdelta\u001b[0m\u001b[1;33m)\u001b[0m\u001b[1;33m)\u001b[0m\u001b[1;33m\u001b[0m\u001b[0m\n\u001b[0;32m     18\u001b[0m \u001b[1;33m\u001b[0m\u001b[0m\n\u001b[1;32m---> 19\u001b[1;33m \u001b[0mZ\u001b[0m \u001b[1;33m=\u001b[0m \u001b[0mpredictRBF\u001b[0m\u001b[1;33m(\u001b[0m\u001b[0mX1\u001b[0m\u001b[1;33m,\u001b[0m \u001b[0mY1\u001b[0m\u001b[1;33m,\u001b[0m \u001b[0malpha1\u001b[0m\u001b[1;33m,\u001b[0m \u001b[1;33m(\u001b[0m\u001b[0mnp\u001b[0m\u001b[1;33m.\u001b[0m\u001b[0mc_\u001b[0m\u001b[1;33m[\u001b[0m\u001b[0mxx1\u001b[0m\u001b[1;33m.\u001b[0m\u001b[0mravel\u001b[0m\u001b[1;33m(\u001b[0m\u001b[1;33m)\u001b[0m\u001b[1;33m,\u001b[0m \u001b[0mxx2\u001b[0m\u001b[1;33m.\u001b[0m\u001b[0mravel\u001b[0m\u001b[1;33m(\u001b[0m\u001b[1;33m)\u001b[0m\u001b[1;33m]\u001b[0m\u001b[1;33m)\u001b[0m\u001b[1;33m,\u001b[0m  \u001b[0mb1\u001b[0m\u001b[1;33m,\u001b[0m \u001b[1;36m1\u001b[0m\u001b[1;33m)\u001b[0m\u001b[1;33m\u001b[0m\u001b[0m\n\u001b[0m\u001b[0;32m     20\u001b[0m \u001b[1;33m\u001b[0m\u001b[0m\n\u001b[0;32m     21\u001b[0m \u001b[0mZ\u001b[0m \u001b[1;33m=\u001b[0m \u001b[0mZ\u001b[0m\u001b[1;33m.\u001b[0m\u001b[0mreshape\u001b[0m\u001b[1;33m(\u001b[0m\u001b[0mxx1\u001b[0m\u001b[1;33m.\u001b[0m\u001b[0mshape\u001b[0m\u001b[1;33m)\u001b[0m\u001b[1;33m\u001b[0m\u001b[0m\n",
      "\u001b[1;32m<ipython-input-19-4b25272db73d>\u001b[0m in \u001b[0;36mpredictRBF\u001b[1;34m(X, Y, alpha, point, b, sigma)\u001b[0m\n\u001b[0;32m      9\u001b[0m         \u001b[1;31m# Here e^(..) is the Kernel Function for RBF\u001b[0m\u001b[1;33m\u001b[0m\u001b[1;33m\u001b[0m\u001b[0m\n\u001b[0;32m     10\u001b[0m         \u001b[0mdiff\u001b[0m \u001b[1;33m=\u001b[0m \u001b[0mnp\u001b[0m\u001b[1;33m.\u001b[0m\u001b[0marray\u001b[0m\u001b[1;33m(\u001b[0m\u001b[0mX\u001b[0m\u001b[1;33m[\u001b[0m\u001b[0mi\u001b[0m\u001b[1;33m]\u001b[0m\u001b[1;33m)\u001b[0m \u001b[1;33m-\u001b[0m \u001b[0mpoint\u001b[0m\u001b[1;33m\u001b[0m\u001b[0m\n\u001b[1;32m---> 11\u001b[1;33m         \u001b[0mresult\u001b[0m \u001b[1;33m=\u001b[0m \u001b[0mresult\u001b[0m \u001b[1;33m+\u001b[0m \u001b[0malpha\u001b[0m\u001b[1;33m[\u001b[0m\u001b[0mi\u001b[0m\u001b[1;33m]\u001b[0m\u001b[1;33m*\u001b[0m\u001b[0mY\u001b[0m\u001b[1;33m[\u001b[0m\u001b[0mi\u001b[0m\u001b[1;33m]\u001b[0m\u001b[1;33m*\u001b[0m\u001b[0mnp\u001b[0m\u001b[1;33m.\u001b[0m\u001b[0mexp\u001b[0m\u001b[1;33m(\u001b[0m\u001b[1;33m-\u001b[0m\u001b[1;36m1\u001b[0m\u001b[1;33m*\u001b[0m\u001b[1;33m(\u001b[0m\u001b[0mnp\u001b[0m\u001b[1;33m.\u001b[0m\u001b[0mdot\u001b[0m\u001b[1;33m(\u001b[0m\u001b[0mdiff\u001b[0m\u001b[1;33m,\u001b[0m \u001b[0mdiff\u001b[0m\u001b[1;33m)\u001b[0m\u001b[1;33m/\u001b[0m\u001b[1;36m2\u001b[0m\u001b[1;33m*\u001b[0m\u001b[0msigma\u001b[0m\u001b[1;33m**\u001b[0m\u001b[1;36m2\u001b[0m\u001b[1;33m)\u001b[0m\u001b[1;33m)\u001b[0m\u001b[1;33m\u001b[0m\u001b[0m\n\u001b[0m\u001b[0;32m     12\u001b[0m \u001b[1;33m\u001b[0m\u001b[0m\n\u001b[0;32m     13\u001b[0m     \u001b[0mresult\u001b[0m \u001b[1;33m=\u001b[0m \u001b[0mresult\u001b[0m \u001b[1;33m+\u001b[0m \u001b[0mb\u001b[0m\u001b[1;33m\u001b[0m\u001b[0m\n",
      "\u001b[1;31mValueError\u001b[0m: shapes (1102500,2) and (1102500,2) not aligned: 2 (dim 1) != 1102500 (dim 0)"
     ]
    },
    {
     "data": {
      "image/png": "[encoded data removed]",
      "text/plain": [
       "<matplotlib.figure.Figure at 0x9c92f98>"
      ]
     },
     "metadata": {},
     "output_type": "display_data"
    }
   ],
   "source": [
    "%matplotlib inline\n",
    "import matplotlib\n",
    "from matplotlib import pyplot as plt\n",
    "\n",
    "\n",
    "\n",
    "zipped = zip(X1, Y1)\n",
    "\n",
    "shapes = ['go', 'rx']\n",
    "\n",
    "for (x,y) in zipped:\n",
    "    plt.plot(x[0], x[1], shapes[0 if y == -1 else 1])\n",
    "    \n",
    "delta = 0.01\n",
    "x1_min, x1_max = 0, 10.5\n",
    "x2_min, x2_max = 0, 10.5\n",
    "xx1, xx2 = np.meshgrid(np.arange(x1_min, x1_max, delta), np.arange(x2_min, x2_max, delta))\n",
    "\n",
    "Z = predictRBF(X1, Y1, alpha1, (np.c_[xx1.ravel(), xx2.ravel()]),  b1, 1)\n",
    "\n",
    "Z = Z.reshape(xx1.shape)\n",
    "\n",
    "plt.pcolormesh(xx1, xx2, Z, cmap=plt.cm.Pastel2, vmin=0, vmax=2)\n",
    "plt.show()"
   ]
  },
  {
   "cell_type": "markdown",
   "metadata": {},
   "source": []
  }
 ],
 "metadata": {
  "kernelspec": {
   "display_name": "Python 2",
   "language": "python",
   "name": "python2"
  },
  "language_info": {
   "codemirror_mode": {
    "name": "ipython",
    "version": 2
   },
   "file_extension": ".py",
   "mimetype": "text/x-python",
   "name": "python",
   "nbconvert_exporter": "python",
   "pygments_lexer": "ipython2",
   "version": "2.7.14"
  }
 },
 "nbformat": 4,
 "nbformat_minor": 2
}
